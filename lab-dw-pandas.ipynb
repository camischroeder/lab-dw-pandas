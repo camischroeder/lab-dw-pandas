{
 "cells": [
  {
   "cell_type": "markdown",
   "id": "25d7736c-ba17-4aff-b6bb-66eba20fbf4e",
   "metadata": {},
   "source": [
    "# Lab | Pandas"
   ]
  },
  {
   "cell_type": "markdown",
   "id": "d1973e9e-8be6-4039-b70e-d73ee0d94c99",
   "metadata": {},
   "source": [
    "In this lab, we will be working with the customer data from an insurance company, which can be found in the CSV file located at the following link: https://raw.githubusercontent.com/data-bootcamp-v4/data/main/file1.csv\n",
    "\n",
    "The data includes information such as customer ID, state, gender, education, income, and other variables that can be used to perform various analyses.\n",
    "\n",
    "Throughout the lab, we will be using the pandas library in Python to manipulate and analyze the data. Pandas is a powerful library that provides various data manipulation and analysis tools, including the ability to load and manipulate data from a variety of sources, including CSV files."
   ]
  },
  {
   "cell_type": "markdown",
   "id": "8045146f-f4f7-44d9-8cd9-130d6400c73a",
   "metadata": {},
   "source": [
    "### Data Description\n",
    "\n",
    "- Customer - Customer ID\n",
    "\n",
    "- ST - State where customers live\n",
    "\n",
    "- Gender - Gender of the customer\n",
    "\n",
    "- Education - Background education of customers \n",
    "\n",
    "- Customer Lifetime Value - Customer lifetime value(CLV) is the total revenue the client will derive from their entire relationship with a customer. In other words, is the predicted or calculated value of a customer over their entire duration as a policyholder with the insurance company. It is an estimation of the net profit that the insurance company expects to generate from a customer throughout their relationship with the company. Customer Lifetime Value takes into account factors such as the duration of the customer's policy, premium payments, claim history, renewal likelihood, and potential additional services or products the customer may purchase. It helps insurers assess the long-term profitability and value associated with retaining a particular customer.\n",
    "\n",
    "- Income - Customers income\n",
    "\n",
    "- Monthly Premium Auto - Amount of money the customer pays on a monthly basis as a premium for their auto insurance coverage. It represents the recurring cost that the insured person must pay to maintain their insurance policy and receive coverage for potential damages, accidents, or other covered events related to their vehicle.\n",
    "\n",
    "- Number of Open Complaints - Number of complaints the customer opened\n",
    "\n",
    "- Policy Type - There are three type of policies in car insurance (Corporate Auto, Personal Auto, and Special Auto)\n",
    "\n",
    "- Vehicle Class - Type of vehicle classes that customers have Two-Door Car, Four-Door Car SUV, Luxury SUV, Sports Car, and Luxury Car\n",
    "\n",
    "- Total Claim Amount - the sum of all claims made by the customer. It represents the total monetary value of all approved claims for incidents such as accidents, theft, vandalism, or other covered events.\n"
   ]
  },
  {
   "cell_type": "markdown",
   "id": "3a72419b-20fc-4905-817a-8c83abc59de6",
   "metadata": {},
   "source": [
    "External Resources: https://towardsdatascience.com/filtering-data-frames-in-pandas-b570b1f834b9"
   ]
  },
  {
   "cell_type": "markdown",
   "id": "8f8ece17-e919-4e23-96c0-c7c59778436a",
   "metadata": {},
   "source": [
    "## Challenge 1: Understanding the data\n",
    "\n",
    "In this challenge, you will use pandas to explore a given dataset. Your task is to gain a deep understanding of the data by analyzing its characteristics, dimensions, and statistical properties."
   ]
  },
  {
   "cell_type": "code",
   "execution_count": 1,
   "id": "dd4e8cd8-a6f6-486c-a5c4-1745b0c035f4",
   "metadata": {},
   "outputs": [],
   "source": [
    "import pandas as pd\n",
    "import numpy as np\n",
    "\n",
    "\n",
    "insurance = pd.read_csv('https://raw.githubusercontent.com/data-bootcamp-v4/data/main/file1.csv')"
   ]
  },
  {
   "cell_type": "code",
   "execution_count": 2,
   "id": "78d1d13f",
   "metadata": {},
   "outputs": [],
   "source": [
    "# - Identify the dimensions of the dataset by determining the number of rows and columns it contains."
   ]
  },
  {
   "cell_type": "code",
   "execution_count": 3,
   "id": "7305d2d4",
   "metadata": {},
   "outputs": [
    {
     "data": {
      "text/plain": [
       "(4008, 11)"
      ]
     },
     "execution_count": 3,
     "metadata": {},
     "output_type": "execute_result"
    }
   ],
   "source": [
    "insurance.shape"
   ]
  },
  {
   "cell_type": "code",
   "execution_count": 4,
   "id": "ecef14af",
   "metadata": {},
   "outputs": [],
   "source": [
    "insurance = insurance.dropna()"
   ]
  },
  {
   "cell_type": "code",
   "execution_count": null,
   "id": "fd9a44fe",
   "metadata": {},
   "outputs": [],
   "source": [
    "# - Determine the data types of each column and evaluate whether they are appropriate for the nature of \n",
    "# the variable. You should also provide suggestions for fixing any incorrect data types."
   ]
  },
  {
   "cell_type": "code",
   "execution_count": 5,
   "id": "f7012800",
   "metadata": {},
   "outputs": [
    {
     "data": {
      "text/plain": [
       "Customer                      object\n",
       "ST                            object\n",
       "GENDER                        object\n",
       "Education                     object\n",
       "Customer Lifetime Value       object\n",
       "Income                       float64\n",
       "Monthly Premium Auto         float64\n",
       "Number of Open Complaints     object\n",
       "Policy Type                   object\n",
       "Vehicle Class                 object\n",
       "Total Claim Amount           float64\n",
       "dtype: object"
      ]
     },
     "execution_count": 5,
     "metadata": {},
     "output_type": "execute_result"
    }
   ],
   "source": [
    "insurance.dtypes\n",
    "\n",
    "#Not sure if this is what you want:\n",
    "#number of open complaints should be an integer."
   ]
  },
  {
   "cell_type": "code",
   "execution_count": 6,
   "id": "020ab41b",
   "metadata": {},
   "outputs": [
    {
     "data": {
      "text/html": [
       "<div>\n",
       "<style scoped>\n",
       "    .dataframe tbody tr th:only-of-type {\n",
       "        vertical-align: middle;\n",
       "    }\n",
       "\n",
       "    .dataframe tbody tr th {\n",
       "        vertical-align: top;\n",
       "    }\n",
       "\n",
       "    .dataframe thead th {\n",
       "        text-align: right;\n",
       "    }\n",
       "</style>\n",
       "<table border=\"1\" class=\"dataframe\">\n",
       "  <thead>\n",
       "    <tr style=\"text-align: right;\">\n",
       "      <th></th>\n",
       "      <th>Customer</th>\n",
       "      <th>ST</th>\n",
       "      <th>GENDER</th>\n",
       "      <th>Education</th>\n",
       "      <th>Customer Lifetime Value</th>\n",
       "      <th>Income</th>\n",
       "      <th>Monthly Premium Auto</th>\n",
       "      <th>Number of Open Complaints</th>\n",
       "      <th>Policy Type</th>\n",
       "      <th>Vehicle Class</th>\n",
       "      <th>Total Claim Amount</th>\n",
       "    </tr>\n",
       "  </thead>\n",
       "  <tbody>\n",
       "    <tr>\n",
       "      <th>1</th>\n",
       "      <td>QZ44356</td>\n",
       "      <td>Arizona</td>\n",
       "      <td>F</td>\n",
       "      <td>Bachelor</td>\n",
       "      <td>697953.59%</td>\n",
       "      <td>0.0</td>\n",
       "      <td>94.0</td>\n",
       "      <td>1/0/00</td>\n",
       "      <td>Personal Auto</td>\n",
       "      <td>Four-Door Car</td>\n",
       "      <td>1131.464935</td>\n",
       "    </tr>\n",
       "    <tr>\n",
       "      <th>2</th>\n",
       "      <td>AI49188</td>\n",
       "      <td>Nevada</td>\n",
       "      <td>F</td>\n",
       "      <td>Bachelor</td>\n",
       "      <td>1288743.17%</td>\n",
       "      <td>48767.0</td>\n",
       "      <td>108.0</td>\n",
       "      <td>1/0/00</td>\n",
       "      <td>Personal Auto</td>\n",
       "      <td>Two-Door Car</td>\n",
       "      <td>566.472247</td>\n",
       "    </tr>\n",
       "    <tr>\n",
       "      <th>3</th>\n",
       "      <td>WW63253</td>\n",
       "      <td>California</td>\n",
       "      <td>M</td>\n",
       "      <td>Bachelor</td>\n",
       "      <td>764586.18%</td>\n",
       "      <td>0.0</td>\n",
       "      <td>106.0</td>\n",
       "      <td>1/0/00</td>\n",
       "      <td>Corporate Auto</td>\n",
       "      <td>SUV</td>\n",
       "      <td>529.881344</td>\n",
       "    </tr>\n",
       "    <tr>\n",
       "      <th>4</th>\n",
       "      <td>GA49547</td>\n",
       "      <td>Washington</td>\n",
       "      <td>M</td>\n",
       "      <td>High School or Below</td>\n",
       "      <td>536307.65%</td>\n",
       "      <td>36357.0</td>\n",
       "      <td>68.0</td>\n",
       "      <td>1/0/00</td>\n",
       "      <td>Personal Auto</td>\n",
       "      <td>Four-Door Car</td>\n",
       "      <td>17.269323</td>\n",
       "    </tr>\n",
       "    <tr>\n",
       "      <th>5</th>\n",
       "      <td>OC83172</td>\n",
       "      <td>Oregon</td>\n",
       "      <td>F</td>\n",
       "      <td>Bachelor</td>\n",
       "      <td>825629.78%</td>\n",
       "      <td>62902.0</td>\n",
       "      <td>69.0</td>\n",
       "      <td>1/0/00</td>\n",
       "      <td>Personal Auto</td>\n",
       "      <td>Two-Door Car</td>\n",
       "      <td>159.383042</td>\n",
       "    </tr>\n",
       "    <tr>\n",
       "      <th>...</th>\n",
       "      <td>...</td>\n",
       "      <td>...</td>\n",
       "      <td>...</td>\n",
       "      <td>...</td>\n",
       "      <td>...</td>\n",
       "      <td>...</td>\n",
       "      <td>...</td>\n",
       "      <td>...</td>\n",
       "      <td>...</td>\n",
       "      <td>...</td>\n",
       "      <td>...</td>\n",
       "    </tr>\n",
       "    <tr>\n",
       "      <th>1066</th>\n",
       "      <td>TM65736</td>\n",
       "      <td>Oregon</td>\n",
       "      <td>M</td>\n",
       "      <td>Master</td>\n",
       "      <td>305955.03%</td>\n",
       "      <td>38644.0</td>\n",
       "      <td>78.0</td>\n",
       "      <td>1/1/00</td>\n",
       "      <td>Personal Auto</td>\n",
       "      <td>Four-Door Car</td>\n",
       "      <td>361.455219</td>\n",
       "    </tr>\n",
       "    <tr>\n",
       "      <th>1067</th>\n",
       "      <td>VJ51327</td>\n",
       "      <td>Cali</td>\n",
       "      <td>F</td>\n",
       "      <td>High School or Below</td>\n",
       "      <td>2031499.76%</td>\n",
       "      <td>63209.0</td>\n",
       "      <td>102.0</td>\n",
       "      <td>1/2/00</td>\n",
       "      <td>Personal Auto</td>\n",
       "      <td>SUV</td>\n",
       "      <td>207.320041</td>\n",
       "    </tr>\n",
       "    <tr>\n",
       "      <th>1068</th>\n",
       "      <td>GS98873</td>\n",
       "      <td>Arizona</td>\n",
       "      <td>F</td>\n",
       "      <td>Bachelor</td>\n",
       "      <td>323912.47%</td>\n",
       "      <td>16061.0</td>\n",
       "      <td>88.0</td>\n",
       "      <td>1/0/00</td>\n",
       "      <td>Personal Auto</td>\n",
       "      <td>Four-Door Car</td>\n",
       "      <td>633.600000</td>\n",
       "    </tr>\n",
       "    <tr>\n",
       "      <th>1069</th>\n",
       "      <td>CW49887</td>\n",
       "      <td>California</td>\n",
       "      <td>F</td>\n",
       "      <td>Master</td>\n",
       "      <td>462680.11%</td>\n",
       "      <td>79487.0</td>\n",
       "      <td>114.0</td>\n",
       "      <td>1/0/00</td>\n",
       "      <td>Special Auto</td>\n",
       "      <td>SUV</td>\n",
       "      <td>547.200000</td>\n",
       "    </tr>\n",
       "    <tr>\n",
       "      <th>1070</th>\n",
       "      <td>MY31220</td>\n",
       "      <td>California</td>\n",
       "      <td>F</td>\n",
       "      <td>College</td>\n",
       "      <td>899704.02%</td>\n",
       "      <td>54230.0</td>\n",
       "      <td>112.0</td>\n",
       "      <td>1/0/00</td>\n",
       "      <td>Personal Auto</td>\n",
       "      <td>Two-Door Car</td>\n",
       "      <td>537.600000</td>\n",
       "    </tr>\n",
       "  </tbody>\n",
       "</table>\n",
       "<p>952 rows × 11 columns</p>\n",
       "</div>"
      ],
      "text/plain": [
       "     Customer          ST GENDER             Education  \\\n",
       "1     QZ44356     Arizona      F              Bachelor   \n",
       "2     AI49188      Nevada      F              Bachelor   \n",
       "3     WW63253  California      M              Bachelor   \n",
       "4     GA49547  Washington      M  High School or Below   \n",
       "5     OC83172      Oregon      F              Bachelor   \n",
       "...       ...         ...    ...                   ...   \n",
       "1066  TM65736      Oregon      M                Master   \n",
       "1067  VJ51327        Cali      F  High School or Below   \n",
       "1068  GS98873     Arizona      F              Bachelor   \n",
       "1069  CW49887  California      F                Master   \n",
       "1070  MY31220  California      F               College   \n",
       "\n",
       "     Customer Lifetime Value   Income  Monthly Premium Auto  \\\n",
       "1                 697953.59%      0.0                  94.0   \n",
       "2                1288743.17%  48767.0                 108.0   \n",
       "3                 764586.18%      0.0                 106.0   \n",
       "4                 536307.65%  36357.0                  68.0   \n",
       "5                 825629.78%  62902.0                  69.0   \n",
       "...                      ...      ...                   ...   \n",
       "1066              305955.03%  38644.0                  78.0   \n",
       "1067             2031499.76%  63209.0                 102.0   \n",
       "1068              323912.47%  16061.0                  88.0   \n",
       "1069              462680.11%  79487.0                 114.0   \n",
       "1070              899704.02%  54230.0                 112.0   \n",
       "\n",
       "     Number of Open Complaints     Policy Type  Vehicle Class  \\\n",
       "1                       1/0/00   Personal Auto  Four-Door Car   \n",
       "2                       1/0/00   Personal Auto   Two-Door Car   \n",
       "3                       1/0/00  Corporate Auto            SUV   \n",
       "4                       1/0/00   Personal Auto  Four-Door Car   \n",
       "5                       1/0/00   Personal Auto   Two-Door Car   \n",
       "...                        ...             ...            ...   \n",
       "1066                    1/1/00   Personal Auto  Four-Door Car   \n",
       "1067                    1/2/00   Personal Auto            SUV   \n",
       "1068                    1/0/00   Personal Auto  Four-Door Car   \n",
       "1069                    1/0/00    Special Auto            SUV   \n",
       "1070                    1/0/00   Personal Auto   Two-Door Car   \n",
       "\n",
       "      Total Claim Amount  \n",
       "1            1131.464935  \n",
       "2             566.472247  \n",
       "3             529.881344  \n",
       "4              17.269323  \n",
       "5             159.383042  \n",
       "...                  ...  \n",
       "1066          361.455219  \n",
       "1067          207.320041  \n",
       "1068          633.600000  \n",
       "1069          547.200000  \n",
       "1070          537.600000  \n",
       "\n",
       "[952 rows x 11 columns]"
      ]
     },
     "execution_count": 6,
     "metadata": {},
     "output_type": "execute_result"
    }
   ],
   "source": [
    "insurance"
   ]
  },
  {
   "cell_type": "code",
   "execution_count": null,
   "id": "124e7a77",
   "metadata": {},
   "outputs": [],
   "source": [
    "# - Identify the number of unique values for each column and determine which columns appear to be \n",
    "# categorical. You should also describe the unique values of each categorical column and the range \n",
    "# of values for numerical columns, and give your insights."
   ]
  },
  {
   "cell_type": "code",
   "execution_count": 7,
   "id": "15d2b9be",
   "metadata": {},
   "outputs": [
    {
     "data": {
      "text/plain": [
       "Customer                     952\n",
       "ST                             8\n",
       "GENDER                         5\n",
       "Education                      6\n",
       "Customer Lifetime Value      921\n",
       "Income                       688\n",
       "Monthly Premium Auto         128\n",
       "Number of Open Complaints      6\n",
       "Policy Type                    3\n",
       "Vehicle Class                  6\n",
       "Total Claim Amount           688\n",
       "dtype: int64"
      ]
     },
     "execution_count": 7,
     "metadata": {},
     "output_type": "execute_result"
    }
   ],
   "source": [
    "insurance_un_val = insurance.nunique()\n",
    "\n",
    "insurance_un_val\n",
    "\n",
    "#Categorical:\n",
    "#ST  // GENDER // Education // Policy Type // Vehicle Class"
   ]
  },
  {
   "cell_type": "code",
   "execution_count": 8,
   "id": "f94888ae",
   "metadata": {},
   "outputs": [
    {
     "data": {
      "text/plain": [
       "array(['Arizona', 'Nevada', 'California', 'Washington', 'Oregon', 'AZ',\n",
       "       'WA', 'Cali'], dtype=object)"
      ]
     },
     "execution_count": 8,
     "metadata": {},
     "output_type": "execute_result"
    }
   ],
   "source": [
    "insurance[\"ST\"].unique()"
   ]
  },
  {
   "cell_type": "code",
   "execution_count": 9,
   "id": "8200f3d6",
   "metadata": {},
   "outputs": [
    {
     "data": {
      "text/plain": [
       "array(['F', 'M', 'Femal', 'Male', 'female'], dtype=object)"
      ]
     },
     "execution_count": 9,
     "metadata": {},
     "output_type": "execute_result"
    }
   ],
   "source": [
    "insurance[\"GENDER\"].unique()"
   ]
  },
  {
   "cell_type": "code",
   "execution_count": 10,
   "id": "34371157",
   "metadata": {},
   "outputs": [
    {
     "data": {
      "text/plain": [
       "array(['Bachelor', 'High School or Below', 'College', 'Master',\n",
       "       'Bachelors', 'Doctor'], dtype=object)"
      ]
     },
     "execution_count": 10,
     "metadata": {},
     "output_type": "execute_result"
    }
   ],
   "source": [
    "insurance[\"Education\"].unique()"
   ]
  },
  {
   "cell_type": "code",
   "execution_count": 11,
   "id": "d2bef0f8",
   "metadata": {},
   "outputs": [
    {
     "data": {
      "text/plain": [
       "array(['Personal Auto', 'Corporate Auto', 'Special Auto'], dtype=object)"
      ]
     },
     "execution_count": 11,
     "metadata": {},
     "output_type": "execute_result"
    }
   ],
   "source": [
    "insurance[\"Policy Type\"].unique()"
   ]
  },
  {
   "cell_type": "code",
   "execution_count": 12,
   "id": "eb38f095",
   "metadata": {},
   "outputs": [
    {
     "data": {
      "text/plain": [
       "array(['Four-Door Car', 'Two-Door Car', 'SUV', 'Sports Car', 'Luxury Car',\n",
       "       'Luxury SUV'], dtype=object)"
      ]
     },
     "execution_count": 12,
     "metadata": {},
     "output_type": "execute_result"
    }
   ],
   "source": [
    "insurance[\"Vehicle Class\"].unique()"
   ]
  },
  {
   "cell_type": "code",
   "execution_count": 13,
   "id": "5ae019ef",
   "metadata": {},
   "outputs": [
    {
     "name": "stdout",
     "output_type": "stream",
     "text": [
      "1006460.83%\n",
      "995170.77%\n"
     ]
    }
   ],
   "source": [
    "print(insurance[\"Customer Lifetime Value\"].min())\n",
    "print(insurance[\"Customer Lifetime Value\"].max())"
   ]
  },
  {
   "cell_type": "code",
   "execution_count": 14,
   "id": "e8b43622",
   "metadata": {},
   "outputs": [
    {
     "name": "stdout",
     "output_type": "stream",
     "text": [
      "0.0\n",
      "99960.0\n"
     ]
    }
   ],
   "source": [
    "print(insurance[\"Income\"].min())\n",
    "print(insurance[\"Income\"].max())"
   ]
  },
  {
   "cell_type": "code",
   "execution_count": 15,
   "id": "380a5b16",
   "metadata": {},
   "outputs": [
    {
     "name": "stdout",
     "output_type": "stream",
     "text": [
      "61.0\n",
      "35354.0\n"
     ]
    }
   ],
   "source": [
    "print(insurance[\"Monthly Premium Auto\"].min())\n",
    "print(insurance[\"Monthly Premium Auto\"].max())"
   ]
  },
  {
   "cell_type": "code",
   "execution_count": 16,
   "id": "fcda7546",
   "metadata": {},
   "outputs": [
    {
     "name": "stdout",
     "output_type": "stream",
     "text": [
      "1/0/00\n",
      "1/5/00\n"
     ]
    }
   ],
   "source": [
    "print(insurance[\"Number of Open Complaints\"].min())\n",
    "print(insurance[\"Number of Open Complaints\"].max())"
   ]
  },
  {
   "cell_type": "code",
   "execution_count": 17,
   "id": "0d5d9f17",
   "metadata": {},
   "outputs": [
    {
     "name": "stdout",
     "output_type": "stream",
     "text": [
      "0.382107\n",
      "2893.239678\n"
     ]
    }
   ],
   "source": [
    "print(insurance[\"Total Claim Amount\"].min())\n",
    "print(insurance[\"Total Claim Amount\"].max())"
   ]
  },
  {
   "cell_type": "code",
   "execution_count": null,
   "id": "667c13cc",
   "metadata": {},
   "outputs": [],
   "source": [
    "# - Compute summary statistics such as mean, median, mode, standard deviation, and quartiles to understand \n",
    "# the central tendency and distribution of the data for numerical columns. You should also provide your \n",
    "# conclusions based on these summary statistics."
   ]
  },
  {
   "cell_type": "code",
   "execution_count": 42,
   "id": "48c6d9c3",
   "metadata": {},
   "outputs": [
    {
     "name": "stdout",
     "output_type": "stream",
     "text": [
      "Mean of Income: 39557.350840336134\n",
      "Median of Income: 36632.0\n",
      "Mode of Income: 0    0.0\n",
      "Name: Income, dtype: float64\n",
      "Standard Deviation of Income: 30744.561851272676\n",
      "Quartiles of Income: [13087.75 36632.   65085.5 ]\n"
     ]
    }
   ],
   "source": [
    "mean_income = insurance[\"Income\"].mean()\n",
    "median_income = insurance[\"Income\"].median()\n",
    "mode_income = insurance[\"Income\"].mode()\n",
    "std_income = insurance[\"Income\"].std()\n",
    "quart_income = np.percentile(insurance[\"Income\"], [25, 50, 75])\n",
    "\n",
    "print(f\"Mean of Income: {mean_income}\")\n",
    "print(f\"Median of Income: {median_income}\")\n",
    "print(f\"Mode of Income: {mode_income}\")\n",
    "print(f\"Standard Deviation of Income: {std_income}\")\n",
    "print(f\"Quartiles of Income: {quart_income}\")"
   ]
  },
  {
   "cell_type": "code",
   "execution_count": 41,
   "id": "eed8b3df",
   "metadata": {},
   "outputs": [
    {
     "name": "stdout",
     "output_type": "stream",
     "text": [
      "Mean of Monthly Premium Auto: 205.2310924369748\n",
      "Median of Monthly Prenium Auto: 83.0\n",
      "Mode of Monthly Premium Auto: 0    65.0\n",
      "Name: Monthly Premium Auto, dtype: float64\n",
      "Standard Deviation of Monthly Premium Auto: 1697.7525043092096\n",
      "Quartiles of Monthly Premium Auto: [ 68.  83. 110.]\n"
     ]
    }
   ],
   "source": [
    "mean_monthly_premium = insurance[\"Monthly Premium Auto\"].mean()\n",
    "median_monthly_premium = insurance[\"Monthly Premium Auto\"].median()\n",
    "mode_monthly_premium = insurance[\"Monthly Premium Auto\"].mode()\n",
    "std_monthly_premium = insurance[\"Monthly Premium Auto\"].std()\n",
    "quart_monthly_premium = np.percentile(insurance[\"Monthly Premium Auto\"], [25, 50, 75])\n",
    "\n",
    "print(f\"Mean of Monthly Premium Auto: {mean_monthly_premium}\")\n",
    "print(f\"Median of Monthly Prenium Auto: {median_monthly_premium}\")\n",
    "print(f\"Mode of Monthly Premium Auto: {mode_monthly_premium}\")\n",
    "print(f\"Standard Deviation of Monthly Premium Auto: {std_monthly_premium}\")\n",
    "print(f\"Quartiles of Monthly Premium Auto: {quart_monthly_premium}\")\n"
   ]
  },
  {
   "cell_type": "code",
   "execution_count": 51,
   "id": "686ac539",
   "metadata": {},
   "outputs": [
    {
     "name": "stdout",
     "output_type": "stream",
     "text": [
      "Mean of Total Claim Amount: 404.99915613550417\n",
      "Median of Total Claim Amount: 404.99915613550417\n",
      "Mode of Total Claim Amount: 0    321.6\n",
      "Name: Total Claim Amount, dtype: float64\n",
      "Standard deviation of Total Claim Amount: 299.23872610749174\n",
      "Quartiles of Total Claim Amount: [196.72458675 350.4        534.        ]\n"
     ]
    }
   ],
   "source": [
    "mean_total_claim = insurance[\"Total Claim Amount\"].mean()\n",
    "median_total_claim = insurance[\"Total Claim Amount\"].mean()\n",
    "mode_total_claim = insurance[\"Total Claim Amount\"].mode()\n",
    "std_total_claim = insurance[\"Total Claim Amount\"].std()\n",
    "quart_total_claim = np.percentile(insurance[\"Total Claim Amount\"], [25, 50, 75])\n",
    "\n",
    "print(f\"Mean of Total Claim Amount: {mean_total_claim}\")\n",
    "print(f\"Median of Total Claim Amount: {median_total_claim}\")\n",
    "print(f\"Mode of Total Claim Amount: {mode_total_claim}\")\n",
    "print(f\"Standard deviation of Total Claim Amount: {std_total_claim}\")\n",
    "print(f\"Quartiles of Total Claim Amount: {quart_total_claim}\")"
   ]
  },
  {
   "cell_type": "code",
   "execution_count": null,
   "id": "171f92e2",
   "metadata": {},
   "outputs": [],
   "source": [
    "# - Compute summary statistics for categorical columns and providing your conclusions based on these \n",
    "#statistics."
   ]
  },
  {
   "cell_type": "code",
   "execution_count": 55,
   "id": "7fbf8bd5",
   "metadata": {},
   "outputs": [
    {
     "name": "stdout",
     "output_type": "stream",
     "text": [
      "Oregon        276\n",
      "Arizona       174\n",
      "California    174\n",
      "Cali          119\n",
      "Nevada         89\n",
      "Washington     77\n",
      "WA             29\n",
      "AZ             14\n",
      "Name: ST, dtype: int64\n"
     ]
    }
   ],
   "source": [
    "state_counts = insurance[\"ST\"].value_counts()\n",
    "print(state_counts)"
   ]
  },
  {
   "cell_type": "code",
   "execution_count": 61,
   "id": "50a6cb69",
   "metadata": {},
   "outputs": [
    {
     "name": "stdout",
     "output_type": "stream",
     "text": [
      "['Arizona' 'Nevada' 'California' 'Washington' 'Oregon' 'AZ' 'WA' 'Cali']\n"
     ]
    }
   ],
   "source": [
    "unique_states = insurance[\"ST\"].unique()\n",
    "print(unique_states)"
   ]
  },
  {
   "cell_type": "code",
   "execution_count": 62,
   "id": "bac47a8f",
   "metadata": {},
   "outputs": [
    {
     "name": "stdout",
     "output_type": "stream",
     "text": [
      "Oregon\n"
     ]
    }
   ],
   "source": [
    "most_common_state = insurance[\"ST\"].mode().values[0]\n",
    "print(most_common_state)"
   ]
  },
  {
   "cell_type": "code",
   "execution_count": 56,
   "id": "eeac3602",
   "metadata": {},
   "outputs": [
    {
     "name": "stdout",
     "output_type": "stream",
     "text": [
      "F         456\n",
      "M         412\n",
      "Male       39\n",
      "female     28\n",
      "Femal      17\n",
      "Name: GENDER, dtype: int64\n"
     ]
    }
   ],
   "source": [
    "gender_counts = insurance[\"GENDER\"].value_counts()\n",
    "print(gender_counts)"
   ]
  },
  {
   "cell_type": "code",
   "execution_count": 63,
   "id": "1b67476f",
   "metadata": {},
   "outputs": [
    {
     "name": "stdout",
     "output_type": "stream",
     "text": [
      "['F' 'M' 'Femal' 'Male' 'female']\n"
     ]
    }
   ],
   "source": [
    "unique_gender = insurance[\"GENDER\"].unique()\n",
    "print(unique_gender)"
   ]
  },
  {
   "cell_type": "code",
   "execution_count": 64,
   "id": "05eab806",
   "metadata": {},
   "outputs": [
    {
     "name": "stdout",
     "output_type": "stream",
     "text": [
      "F\n"
     ]
    }
   ],
   "source": [
    "most_common_gender= insurance[\"GENDER\"].mode().values[0]\n",
    "print(most_common_gender)"
   ]
  },
  {
   "cell_type": "code",
   "execution_count": 57,
   "id": "aad47bc1",
   "metadata": {},
   "outputs": [
    {
     "name": "stdout",
     "output_type": "stream",
     "text": [
      "Bachelor                284\n",
      "College                 279\n",
      "High School or Below    264\n",
      "Master                   83\n",
      "Doctor                   35\n",
      "Bachelors                 7\n",
      "Name: Education, dtype: int64\n"
     ]
    }
   ],
   "source": [
    "education_counts = insurance[\"Education\"].value_counts()\n",
    "print(education_counts)"
   ]
  },
  {
   "cell_type": "code",
   "execution_count": 65,
   "id": "75e03efa",
   "metadata": {},
   "outputs": [
    {
     "name": "stdout",
     "output_type": "stream",
     "text": [
      "['Bachelor' 'High School or Below' 'College' 'Master' 'Bachelors' 'Doctor']\n"
     ]
    }
   ],
   "source": [
    "unique_education = insurance[\"Education\"].unique()\n",
    "print(unique_education)"
   ]
  },
  {
   "cell_type": "code",
   "execution_count": 66,
   "id": "d229c7f9",
   "metadata": {},
   "outputs": [
    {
     "name": "stdout",
     "output_type": "stream",
     "text": [
      "Bachelor\n"
     ]
    }
   ],
   "source": [
    "most_common_education = insurance[\"Education\"].mode().values[0]\n",
    "print(most_common_education)"
   ]
  },
  {
   "cell_type": "code",
   "execution_count": 59,
   "id": "c1020fd4",
   "metadata": {},
   "outputs": [
    {
     "name": "stdout",
     "output_type": "stream",
     "text": [
      "Personal Auto     689\n",
      "Corporate Auto    211\n",
      "Special Auto       52\n",
      "Name: Policy Type, dtype: int64\n"
     ]
    }
   ],
   "source": [
    "policy_counts = insurance[\"Policy Type\"].value_counts()\n",
    "print(policy_counts)"
   ]
  },
  {
   "cell_type": "code",
   "execution_count": 67,
   "id": "e9205518",
   "metadata": {},
   "outputs": [
    {
     "name": "stdout",
     "output_type": "stream",
     "text": [
      "['Personal Auto' 'Corporate Auto' 'Special Auto']\n"
     ]
    }
   ],
   "source": [
    "unique_policy = insurance[\"Policy Type\"].unique()\n",
    "print(unique_policy)"
   ]
  },
  {
   "cell_type": "code",
   "execution_count": 68,
   "id": "b0d6d9ed",
   "metadata": {},
   "outputs": [
    {
     "name": "stdout",
     "output_type": "stream",
     "text": [
      "Personal Auto\n"
     ]
    }
   ],
   "source": [
    "most_common_policy = insurance[\"Policy Type\"].mode().values[0]\n",
    "print(most_common_policy)"
   ]
  },
  {
   "cell_type": "code",
   "execution_count": 60,
   "id": "25d71c4a",
   "metadata": {},
   "outputs": [
    {
     "name": "stdout",
     "output_type": "stream",
     "text": [
      "Four-Door Car    506\n",
      "Two-Door Car     184\n",
      "SUV              179\n",
      "Sports Car        52\n",
      "Luxury SUV        18\n",
      "Luxury Car        13\n",
      "Name: Vehicle Class, dtype: int64\n"
     ]
    }
   ],
   "source": [
    "vehicle_class_counts = insurance[\"Vehicle Class\"].value_counts()\n",
    "print(vehicle_class_counts)"
   ]
  },
  {
   "cell_type": "code",
   "execution_count": 69,
   "id": "92a77128",
   "metadata": {},
   "outputs": [
    {
     "name": "stdout",
     "output_type": "stream",
     "text": [
      "['Four-Door Car' 'Two-Door Car' 'SUV' 'Sports Car' 'Luxury Car'\n",
      " 'Luxury SUV']\n"
     ]
    }
   ],
   "source": [
    "unique_vehicle_class = insurance[\"Vehicle Class\"].unique()\n",
    "print(unique_vehicle_class)"
   ]
  },
  {
   "cell_type": "code",
   "execution_count": 70,
   "id": "6c7ed073",
   "metadata": {},
   "outputs": [
    {
     "name": "stdout",
     "output_type": "stream",
     "text": [
      "Four-Door Car\n"
     ]
    }
   ],
   "source": [
    "most_common_vehicle_class = insurance[\"Vehicle Class\"].mode().values[0]\n",
    "print(most_common_vehicle_class)"
   ]
  },
  {
   "cell_type": "markdown",
   "id": "4a703890-63db-4944-b7ab-95a4f8185120",
   "metadata": {},
   "source": [
    "## Challenge 2: analyzing the data"
   ]
  },
  {
   "cell_type": "markdown",
   "id": "0776a403-c56a-452f-ac33-5fd4fdb06fc7",
   "metadata": {},
   "source": [
    "### Exercise 1"
   ]
  },
  {
   "cell_type": "markdown",
   "id": "eedbc484-da4d-4f9c-9343-e1d44311a87e",
   "metadata": {},
   "source": [
    "The marketing team wants to know the top 5 less common customer locations. Create a pandas Series object that contains the customer locations and their frequencies, and then retrieve the top 5 less common locations in ascending order."
   ]
  },
  {
   "cell_type": "code",
   "execution_count": 77,
   "id": "2dca5073-4520-4f42-9390-4b92733284ed",
   "metadata": {},
   "outputs": [
    {
     "data": {
      "text/plain": [
       "AZ             14\n",
       "WA             29\n",
       "Washington     77\n",
       "Nevada         89\n",
       "Cali          119\n",
       "Name: ST, dtype: int64"
      ]
     },
     "execution_count": 77,
     "metadata": {},
     "output_type": "execute_result"
    }
   ],
   "source": [
    "state_counts = insurance[\"ST\"].value_counts()\n",
    "asc_state_counts = state_counts.sort_values(ascending=True)\n",
    "asc_state_counts.head(5)"
   ]
  },
  {
   "cell_type": "markdown",
   "id": "0ce80f43-4afa-43c7-a78a-c917444da4e0",
   "metadata": {},
   "source": [
    "### Exercise 2\n",
    "\n",
    "The sales team wants to know the total number of policies sold for each type of policy. Create a pandas Series object that contains the policy types and their total number of policies sold, and then retrieve the policy type with the highest number of policies sold."
   ]
  },
  {
   "cell_type": "markdown",
   "id": "a9f13997-1555-4f98-aca6-970fda1d2c3f",
   "metadata": {},
   "source": [
    "*Hint:*\n",
    "- *Using value_counts() method simplifies this analysis.*\n",
    "- *Futhermore, there is a method that returns the index of the maximum value in a column or row.*\n"
   ]
  },
  {
   "cell_type": "code",
   "execution_count": 80,
   "id": "bcfad6c1-9af2-4b0b-9aa9-0dc5c17473c0",
   "metadata": {},
   "outputs": [
    {
     "name": "stdout",
     "output_type": "stream",
     "text": [
      "Personal Auto     689\n",
      "Corporate Auto    211\n",
      "Special Auto       52\n",
      "Name: Policy Type, dtype: int64\n",
      "Personal Auto\n"
     ]
    }
   ],
   "source": [
    "policy_counts = insurance[\"Policy Type\"].value_counts()\n",
    "print(policy_counts)\n",
    "most_common_policy = insurance[\"Policy Type\"].mode().values[0]\n",
    "print(most_common_policy)"
   ]
  },
  {
   "cell_type": "markdown",
   "id": "0b863fd3-bf91-4d5d-86eb-be29ed9f5b70",
   "metadata": {},
   "source": [
    "### Exercise 3\n",
    "\n",
    "The sales team wants to know if customers with Personal Auto have a lower income than those with Corporate Auto. How does the average income compare between the two policy types?"
   ]
  },
  {
   "cell_type": "markdown",
   "id": "b1386d75-2810-4aa1-93e0-9485aa12d552",
   "metadata": {},
   "source": [
    "- Use *loc* to create two dataframes: one containing only Personal Auto policies and one containing only Corporate Auto policies.\n",
    "- Calculate the average income for each policy.\n",
    "- Print the results."
   ]
  },
  {
   "cell_type": "code",
   "execution_count": 84,
   "id": "0c0563cf-6f8b-463d-a321-651a972f82e5",
   "metadata": {},
   "outputs": [],
   "source": [
    "personal_auto_mask = (insurance['Policy Type'] == 'Personal Auto')\n",
    "corporate_auto_mask = (insurance['Policy Type'] == 'Corporate Auto')\n",
    "\n",
    "personal_auto_df = insurance[personal_auto_mask]\n",
    "corporate_auto_df = insurance[corporate_auto_mask]"
   ]
  },
  {
   "cell_type": "code",
   "execution_count": 85,
   "id": "48e8c555",
   "metadata": {},
   "outputs": [
    {
     "name": "stdout",
     "output_type": "stream",
     "text": [
      "41034.50710900474\n",
      "38643.96081277214\n"
     ]
    }
   ],
   "source": [
    "mean_income_personal = personal_auto_df[\"Income\"].mean()\n",
    "mean_income_corporate = corporate_auto_df[\"Income\"].mean()\n",
    "\n",
    "print(mean_income_corporate)\n",
    "print(mean_income_personal)"
   ]
  },
  {
   "cell_type": "markdown",
   "id": "80b16c27-f4a5-4727-a229-1f88671cf4e2",
   "metadata": {},
   "source": [
    "### Bonus: Exercise 4\n"
   ]
  },
  {
   "cell_type": "markdown",
   "id": "ac584986-299b-475f-ac2e-928c16c3f512",
   "metadata": {},
   "source": [
    "Your goal is to identify customers with a high policy claim amount.\n",
    "\n",
    "Instructions:\n",
    "\n",
    "- Review again the statistics for total claim amount to gain an understanding of the data.\n",
    "- To identify potential areas for improving customer retention and profitability, we want to focus on customers with a high policy claim amount. Consider customers with a high policy claim amount to be those in the top 25% of the total claim amount. Create a pandas DataFrame object that contains information about customers with a policy claim amount greater than the 75th percentile.\n",
    "- Use DataFrame methods to calculate summary statistics about the high policy claim amount data. "
   ]
  },
  {
   "cell_type": "markdown",
   "id": "4e3af5f1-6023-4b05-9c01-d05392daa650",
   "metadata": {},
   "source": [
    "*Note: When analyzing data, we often want to focus on certain groups of values to gain insights. Percentiles are a useful tool to help us define these groups. A percentile is a measure that tells us what percentage of values in a dataset are below a certain value. For example, the 75th percentile represents the value below which 75% of the data falls. Similarly, the 25th percentile represents the value below which 25% of the data falls. When we talk about the top 25%, we are referring to the values that fall above the 75th percentile, which represent the top quarter of the data. On the other hand, when we talk about the bottom 25%, we are referring to the values that fall below the 25th percentile, which represent the bottom quarter of the data. By focusing on these groups, we can identify patterns and trends that may be useful for making decisions and taking action.*\n",
    "\n",
    "*Hint: look for a method that gives you the percentile or quantile 0.75 and 0.25 for a Pandas Series.*"
   ]
  },
  {
   "cell_type": "markdown",
   "id": "2d234634-50bd-41e0-88f7-d5ba684455d1",
   "metadata": {},
   "source": [
    "*Hint 2: check `Boolean selection according to the values of a single column` in https://towardsdatascience.com/filtering-data-frames-in-pandas-b570b1f834b9*"
   ]
  },
  {
   "cell_type": "code",
   "execution_count": null,
   "id": "b731bca6-a760-4860-a27b-a33efa712ce0",
   "metadata": {},
   "outputs": [],
   "source": [
    "# Your code here"
   ]
  }
 ],
 "metadata": {
  "kernelspec": {
   "display_name": "Python 3 (ipykernel)",
   "language": "python",
   "name": "python3"
  },
  "language_info": {
   "codemirror_mode": {
    "name": "ipython",
    "version": 3
   },
   "file_extension": ".py",
   "mimetype": "text/x-python",
   "name": "python",
   "nbconvert_exporter": "python",
   "pygments_lexer": "ipython3",
   "version": "3.11.4"
  }
 },
 "nbformat": 4,
 "nbformat_minor": 5
}
